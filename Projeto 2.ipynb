{
 "cells": [
  {
   "cell_type": "markdown",
   "id": "6555c919-33c5-4b4a-8ae5-ad67ccb7d137",
   "metadata": {},
   "source": [
    "# **Monitor de Concorrentes com LLMs e Gradio**\n",
    "\n",
    "No mundo dos negócios, **monitorar a concorrência** é essencial para se manter competitivo. Saber o que os concorrentes estão fazendo — como promoções, lançamentos de novos produtos, mudanças de preços e feedbacks dos clientes — pode ajudar uma empresa a ajustar suas estratégias e tomar decisões mais informadas. No entanto, fazer isso manualmente é demorado e ineficiente.\n",
    "\n",
    "É aí que entra o **Monitor de Concorrentes com LLMs e Gradio**: um sistema automatizado que coleta, analisa e resume informações relevantes de sites de concorrentes, fornecendo insights valiosos de forma rápida e eficiente.\n",
    "\n"
   ]
  },
  {
   "cell_type": "markdown",
   "id": "1429e5ef-b285-4b1b-be7c-95c9cf9088e7",
   "metadata": {},
   "source": [
    "## Importando as bibliotecas"
   ]
  },
  {
   "cell_type": "code",
   "execution_count": 1,
   "id": "4e65c186-b4ca-4737-8b8d-18968bba2397",
   "metadata": {},
   "outputs": [],
   "source": [
    "import os\n",
    "import requests\n",
    "from bs4 import BeautifulSoup\n",
    "from typing import List\n",
    "from dotenv import load_dotenv\n",
    "from openai import OpenAI\n",
    "import gradio as gr\n",
    "import pandas as pd\n"
   ]
  },
  {
   "cell_type": "code",
   "execution_count": 2,
   "id": "6b226f67-eef3-489d-9603-d35a1429d83f",
   "metadata": {},
   "outputs": [
    {
     "name": "stdout",
     "output_type": "stream",
     "text": [
      "A chave de API OpenAI existe e começa sk-proj-\n"
     ]
    }
   ],
   "source": [
    "# Carrega as variáveis de ambiente a partir do arquivo .env\n",
    "# O parâmetro 'override=True' permite sobrescrever variáveis já carregadas\n",
    "load_dotenv(override=True)\n",
    "\n",
    "openai_api_key = os.getenv('OPENAI_API_KEY')\n",
    "\n",
    "if openai_api_key:\n",
    "    \n",
    "    print(f\"A chave de API OpenAI existe e começa {openai_api_key[:8]}\")\n",
    "else:\n",
    "    \n",
    "    print(\"Chave de API OpenAI não definida\")\n"
   ]
  },
  {
   "cell_type": "code",
   "execution_count": 3,
   "id": "47b2ebea-f9d6-441a-9481-5460eaf8e3dc",
   "metadata": {},
   "outputs": [],
   "source": [
    "# Conectando a API da OpenAI, \n",
    "\n",
    "openai = OpenAI()"
   ]
  },
  {
   "cell_type": "code",
   "execution_count": 4,
   "id": "62357014-7dff-44f4-92c5-9d22194e644f",
   "metadata": {},
   "outputs": [],
   "source": [
    "# Uma classe para representar uma página da Web\n",
    "\n",
    "class Website:\n",
    "    url: str\n",
    "    title: str\n",
    "    text: str\n",
    "\n",
    "    def __init__(self, url):\n",
    "        self.url = url\n",
    "        response = requests.get(url)\n",
    "        self.body = response.content\n",
    "        soup = BeautifulSoup(self.body, 'html.parser')\n",
    "        self.title = soup.title.string if soup.title else \"Nenhum título encontrado\"\n",
    "        for irrelevant in soup.body([\"script\", \"style\", \"img\", \"input\"]):\n",
    "            irrelevant.decompose()\n",
    "        self.text = soup.body.get_text(separator=\"\\n\", strip=True)\n",
    "\n",
    "    def get_contents(self):\n",
    "        return f\"Webpage Title:\\n{self.title}\\nWebpage Contents:\\n{self.text}\\n\\n\""
   ]
  },
  {
   "cell_type": "code",
   "execution_count": 5,
   "id": "c1409fc1-701c-4646-8ada-8abd8fc0c8f4",
   "metadata": {},
   "outputs": [],
   "source": [
    "# Função para enviar o conteúdo para o LLM e gerar o resumo em Markdown\n",
    "def stream_gpt(prompt):\n",
    "    system_message = \"\"\"\n",
    "    Você é um assistente especializado em análise de concorrência. Analise páginas da web e destaque: promoções, descontos e ofertas;\n",
    "    novos produtos ou serviços;\n",
    "    Seja conciso, direto e utilize Markdown para organizar os insights.\n",
    "    \"\"\"\n",
    "    messages = [\n",
    "        {\"role\": \"system\", \"content\": system_message},\n",
    "        {\"role\": \"user\", \"content\": prompt}\n",
    "    ]\n",
    "    \n",
    "    # Criação da requisição para o modelo GPT-4\n",
    "    stream = openai.chat.completions.create(\n",
    "        model='gpt-4o-mini',  # Ou o modelo que preferir\n",
    "        messages=messages,\n",
    "        stream=True\n",
    "    )\n",
    "    \n",
    "    result = \"\"\n",
    "    # Processa o streaming, gerando partes da resposta\n",
    "    for chunk in stream:\n",
    "        result += chunk.choices[0].delta.content or \"\"\n",
    "        yield result  # Emite cada parte da resposta conforme gerada\n"
   ]
  },
  {
   "cell_type": "code",
   "execution_count": 6,
   "id": "243952fc-caef-42d8-a941-694b858b0f96",
   "metadata": {},
   "outputs": [
    {
     "name": "stdout",
     "output_type": "stream",
     "text": [
      "* Running on local URL:  http://127.0.0.1:7860\n",
      "\n",
      "To create a public link, set `share=True` in `launch()`.\n"
     ]
    },
    {
     "data": {
      "text/html": [
       "<div><iframe src=\"http://127.0.0.1:7860/\" width=\"100%\" height=\"500\" allow=\"autoplay; camera; microphone; clipboard-read; clipboard-write;\" frameborder=\"0\" allowfullscreen></iframe></div>"
      ],
      "text/plain": [
       "<IPython.core.display.HTML object>"
      ]
     },
     "metadata": {},
     "output_type": "display_data"
    },
    {
     "data": {
      "text/plain": []
     },
     "execution_count": 6,
     "metadata": {},
     "output_type": "execute_result"
    }
   ],
   "source": [
    "# Função principal que integra a coleta de dados da página com o LLM\n",
    "def monitorar_concorrente(url):\n",
    "    website = Website(url)\n",
    "    contents = website.get_contents()\n",
    "    \n",
    "    # Geração do resumo em Markdown com o LLM utilizando o gerador\n",
    "    result = stream_gpt(contents)\n",
    "    \n",
    "    # Usando 'yield from' para emitir as partes do gerador\n",
    "    yield from result\n",
    "\n",
    "# Interface Gradio\n",
    "iface = gr.Interface(fn=monitorar_concorrente,\n",
    "                     inputs=gr.Textbox(label=\"URL do Concorrente\"),\n",
    "                     outputs=gr.Markdown(label=\"Resumo do Concorrente\"),\n",
    "                     title=\"Monitor de Concorrentes com LLM\",\n",
    "                     description=\"Insira a URL de um concorrente para coletar e analisar informações como promoções, novos produtos e muito mais. O modelo gerará um resumo com insights em formato Markdown.\")\n",
    "iface.launch()"
   ]
  },
  {
   "cell_type": "code",
   "execution_count": 7,
   "id": "959a4aa4-4f36-478a-b71a-291723404776",
   "metadata": {},
   "outputs": [
    {
     "name": "stdout",
     "output_type": "stream",
     "text": [
      "Rerunning server... use `close()` to stop if you need to change `launch()` parameters.\n",
      "----\n",
      "* Running on public URL: https://3ade0b576cec4eb787.gradio.live\n",
      "\n",
      "This share link expires in 72 hours. For free permanent hosting and GPU upgrades, run `gradio deploy` from the terminal in the working directory to deploy to Hugging Face Spaces (https://huggingface.co/spaces)\n"
     ]
    },
    {
     "data": {
      "text/html": [
       "<div><iframe src=\"https://3ade0b576cec4eb787.gradio.live\" width=\"100%\" height=\"500\" allow=\"autoplay; camera; microphone; clipboard-read; clipboard-write;\" frameborder=\"0\" allowfullscreen></iframe></div>"
      ],
      "text/plain": [
       "<IPython.core.display.HTML object>"
      ]
     },
     "metadata": {},
     "output_type": "display_data"
    },
    {
     "data": {
      "text/plain": []
     },
     "execution_count": 7,
     "metadata": {},
     "output_type": "execute_result"
    }
   ],
   "source": [
    "# gerando um link público\n",
    "iface.launch(share=True)\n"
   ]
  },
  {
   "cell_type": "code",
   "execution_count": null,
   "id": "17c92635-3857-4938-a86d-7d5e3cc9f695",
   "metadata": {},
   "outputs": [],
   "source": []
  }
 ],
 "metadata": {
  "kernelspec": {
   "display_name": "Python 3 (ipykernel)",
   "language": "python",
   "name": "python3"
  },
  "language_info": {
   "codemirror_mode": {
    "name": "ipython",
    "version": 3
   },
   "file_extension": ".py",
   "mimetype": "text/x-python",
   "name": "python",
   "nbconvert_exporter": "python",
   "pygments_lexer": "ipython3",
   "version": "3.11.11"
  }
 },
 "nbformat": 4,
 "nbformat_minor": 5
}
